{
 "cells": [
  {
   "cell_type": "code",
   "execution_count": null,
   "id": "054c9aeb",
   "metadata": {},
   "outputs": [],
   "source": [
    "## chương trình hiện thị thông tin đơn hàng\n",
    "\n",
    "tien = float(input(\"Bạn đã chi bao nhiêu tiền ở cửa hàng: \"))\n",
    "\n",
    "if tien >= 150:\n",
    "    tien = tien - 150\n",
    "elif 150 > tien >=100:\n",
    "    tien = tien - 25\n",
    "elif 100 > tien >=75:\n",
    "    tien = tien - 25\n",
    "print(\"Số tiền mà người dùng phải thanh toán là: \", round(tien),\"đô\")"
   ]
  }
 ],
 "metadata": {
  "kernelspec": {
   "display_name": "Python 3 (ipykernel)",
   "language": "python",
   "name": "python3"
  },
  "language_info": {
   "codemirror_mode": {
    "name": "ipython",
    "version": 3
   },
   "file_extension": ".py",
   "mimetype": "text/x-python",
   "name": "python",
   "nbconvert_exporter": "python",
   "pygments_lexer": "ipython3",
   "version": "3.10.5"
  }
 },
 "nbformat": 4,
 "nbformat_minor": 5
}
